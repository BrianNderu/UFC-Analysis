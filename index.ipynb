{
 "cells": [
  {
   "attachments": {},
   "cell_type": "markdown",
   "metadata": {},
   "source": [
    "### Importing the required libraries"
   ]
  },
  {
   "cell_type": "code",
   "execution_count": 2,
   "metadata": {},
   "outputs": [],
   "source": [
    "import pandas as pd\n",
    "import numpy as np\n",
    "import seaborn as sns\n",
    "import matplotlib.pyplot as plt\n",
    "import statsmodels.api as stats\n",
    "%matplotlib inline"
   ]
  },
  {
   "attachments": {},
   "cell_type": "markdown",
   "metadata": {},
   "source": [
    "### Loading the data and data Understanding"
   ]
  },
  {
   "cell_type": "code",
   "execution_count": 3,
   "metadata": {},
   "outputs": [
    {
     "data": {
      "text/html": [
       "<div>\n",
       "<style scoped>\n",
       "    .dataframe tbody tr th:only-of-type {\n",
       "        vertical-align: middle;\n",
       "    }\n",
       "\n",
       "    .dataframe tbody tr th {\n",
       "        vertical-align: top;\n",
       "    }\n",
       "\n",
       "    .dataframe thead th {\n",
       "        text-align: right;\n",
       "    }\n",
       "</style>\n",
       "<table border=\"1\" class=\"dataframe\">\n",
       "  <thead>\n",
       "    <tr style=\"text-align: right;\">\n",
       "      <th></th>\n",
       "      <th>First Name</th>\n",
       "      <th>Last Name</th>\n",
       "      <th>Nickname</th>\n",
       "      <th>Height</th>\n",
       "      <th>Weight</th>\n",
       "      <th>Reach</th>\n",
       "      <th>Stance</th>\n",
       "      <th>Wins</th>\n",
       "      <th>Losses</th>\n",
       "      <th>Draws</th>\n",
       "    </tr>\n",
       "  </thead>\n",
       "  <tbody>\n",
       "    <tr>\n",
       "      <th>0</th>\n",
       "      <td>Tom</td>\n",
       "      <td>Aaron</td>\n",
       "      <td>NaN</td>\n",
       "      <td>--</td>\n",
       "      <td>155 lbs.</td>\n",
       "      <td>--</td>\n",
       "      <td>NaN</td>\n",
       "      <td>5</td>\n",
       "      <td>3</td>\n",
       "      <td>0</td>\n",
       "    </tr>\n",
       "    <tr>\n",
       "      <th>1</th>\n",
       "      <td>Danny</td>\n",
       "      <td>Abbadi</td>\n",
       "      <td>The Assassin</td>\n",
       "      <td>5' 11\"</td>\n",
       "      <td>155 lbs.</td>\n",
       "      <td>--</td>\n",
       "      <td>Orthodox</td>\n",
       "      <td>4</td>\n",
       "      <td>6</td>\n",
       "      <td>0</td>\n",
       "    </tr>\n",
       "    <tr>\n",
       "      <th>2</th>\n",
       "      <td>Nariman</td>\n",
       "      <td>Abbasov</td>\n",
       "      <td>Bayraktar</td>\n",
       "      <td>5' 8\"</td>\n",
       "      <td>155 lbs.</td>\n",
       "      <td>66.0\"</td>\n",
       "      <td>Orthodox</td>\n",
       "      <td>28</td>\n",
       "      <td>4</td>\n",
       "      <td>0</td>\n",
       "    </tr>\n",
       "    <tr>\n",
       "      <th>3</th>\n",
       "      <td>David</td>\n",
       "      <td>Abbott</td>\n",
       "      <td>Tank</td>\n",
       "      <td>6' 0\"</td>\n",
       "      <td>265 lbs.</td>\n",
       "      <td>--</td>\n",
       "      <td>Switch</td>\n",
       "      <td>10</td>\n",
       "      <td>15</td>\n",
       "      <td>0</td>\n",
       "    </tr>\n",
       "    <tr>\n",
       "      <th>4</th>\n",
       "      <td>Hamdy</td>\n",
       "      <td>Abdelwahab</td>\n",
       "      <td>The Hammer</td>\n",
       "      <td>6' 2\"</td>\n",
       "      <td>264 lbs.</td>\n",
       "      <td>72.0\"</td>\n",
       "      <td>Southpaw</td>\n",
       "      <td>5</td>\n",
       "      <td>0</td>\n",
       "      <td>0</td>\n",
       "    </tr>\n",
       "  </tbody>\n",
       "</table>\n",
       "</div>"
      ],
      "text/plain": [
       "  First Name   Last Name      Nickname  Height    Weight  Reach    Stance  \\\n",
       "0        Tom       Aaron           NaN      --  155 lbs.     --       NaN   \n",
       "1      Danny      Abbadi  The Assassin  5' 11\"  155 lbs.     --  Orthodox   \n",
       "2    Nariman     Abbasov     Bayraktar   5' 8\"  155 lbs.  66.0\"  Orthodox   \n",
       "3      David      Abbott          Tank   6' 0\"  265 lbs.     --    Switch   \n",
       "4      Hamdy  Abdelwahab    The Hammer   6' 2\"  264 lbs.  72.0\"  Southpaw   \n",
       "\n",
       "   Wins  Losses  Draws  \n",
       "0     5       3      0  \n",
       "1     4       6      0  \n",
       "2    28       4      0  \n",
       "3    10      15      0  \n",
       "4     5       0      0  "
      ]
     },
     "execution_count": 3,
     "metadata": {},
     "output_type": "execute_result"
    }
   ],
   "source": [
    "df = pd.read_csv(\"ufc_fighters.csv\")\n",
    "df.head()"
   ]
  },
  {
   "cell_type": "code",
   "execution_count": 11,
   "metadata": {},
   "outputs": [
    {
     "data": {
      "text/html": [
       "<div>\n",
       "<style scoped>\n",
       "    .dataframe tbody tr th:only-of-type {\n",
       "        vertical-align: middle;\n",
       "    }\n",
       "\n",
       "    .dataframe tbody tr th {\n",
       "        vertical-align: top;\n",
       "    }\n",
       "\n",
       "    .dataframe thead th {\n",
       "        text-align: right;\n",
       "    }\n",
       "</style>\n",
       "<table border=\"1\" class=\"dataframe\">\n",
       "  <thead>\n",
       "    <tr style=\"text-align: right;\">\n",
       "      <th></th>\n",
       "      <th>First Name</th>\n",
       "      <th>Last Name</th>\n",
       "      <th>Nickname</th>\n",
       "      <th>Height</th>\n",
       "      <th>Weight</th>\n",
       "      <th>Reach</th>\n",
       "      <th>Stance</th>\n",
       "      <th>Wins</th>\n",
       "      <th>Losses</th>\n",
       "      <th>Draws</th>\n",
       "    </tr>\n",
       "  </thead>\n",
       "  <tbody>\n",
       "    <tr>\n",
       "      <th>3946</th>\n",
       "      <td>Dave</td>\n",
       "      <td>Zitanick</td>\n",
       "      <td>NaN</td>\n",
       "      <td>--</td>\n",
       "      <td>170 lbs.</td>\n",
       "      <td>--</td>\n",
       "      <td>NaN</td>\n",
       "      <td>5</td>\n",
       "      <td>7</td>\n",
       "      <td>0</td>\n",
       "    </tr>\n",
       "    <tr>\n",
       "      <th>3947</th>\n",
       "      <td>Alex</td>\n",
       "      <td>Zuniga</td>\n",
       "      <td>NaN</td>\n",
       "      <td>--</td>\n",
       "      <td>145 lbs.</td>\n",
       "      <td>--</td>\n",
       "      <td>NaN</td>\n",
       "      <td>6</td>\n",
       "      <td>3</td>\n",
       "      <td>0</td>\n",
       "    </tr>\n",
       "    <tr>\n",
       "      <th>3948</th>\n",
       "      <td>George</td>\n",
       "      <td>Zuniga</td>\n",
       "      <td>NaN</td>\n",
       "      <td>5' 9\"</td>\n",
       "      <td>185 lbs.</td>\n",
       "      <td>--</td>\n",
       "      <td>NaN</td>\n",
       "      <td>3</td>\n",
       "      <td>1</td>\n",
       "      <td>0</td>\n",
       "    </tr>\n",
       "    <tr>\n",
       "      <th>3949</th>\n",
       "      <td>Allan</td>\n",
       "      <td>Zuniga</td>\n",
       "      <td>Tigre</td>\n",
       "      <td>5' 7\"</td>\n",
       "      <td>155 lbs.</td>\n",
       "      <td>70.0\"</td>\n",
       "      <td>Orthodox</td>\n",
       "      <td>13</td>\n",
       "      <td>1</td>\n",
       "      <td>0</td>\n",
       "    </tr>\n",
       "    <tr>\n",
       "      <th>3950</th>\n",
       "      <td>Virgil</td>\n",
       "      <td>Zwicker</td>\n",
       "      <td>RezDog</td>\n",
       "      <td>6' 2\"</td>\n",
       "      <td>205 lbs.</td>\n",
       "      <td>74.0\"</td>\n",
       "      <td>NaN</td>\n",
       "      <td>15</td>\n",
       "      <td>6</td>\n",
       "      <td>1</td>\n",
       "    </tr>\n",
       "  </tbody>\n",
       "</table>\n",
       "</div>"
      ],
      "text/plain": [
       "     First Name Last Name Nickname Height    Weight  Reach    Stance  Wins  \\\n",
       "3946       Dave  Zitanick      NaN     --  170 lbs.     --       NaN     5   \n",
       "3947       Alex    Zuniga      NaN     --  145 lbs.     --       NaN     6   \n",
       "3948     George    Zuniga      NaN  5' 9\"  185 lbs.     --       NaN     3   \n",
       "3949      Allan    Zuniga    Tigre  5' 7\"  155 lbs.  70.0\"  Orthodox    13   \n",
       "3950     Virgil   Zwicker   RezDog  6' 2\"  205 lbs.  74.0\"       NaN    15   \n",
       "\n",
       "      Losses  Draws  \n",
       "3946       7      0  \n",
       "3947       3      0  \n",
       "3948       1      0  \n",
       "3949       1      0  \n",
       "3950       6      1  "
      ]
     },
     "execution_count": 11,
     "metadata": {},
     "output_type": "execute_result"
    }
   ],
   "source": [
    "#checking last 5 \n",
    "df.tail()"
   ]
  },
  {
   "cell_type": "code",
   "execution_count": 12,
   "metadata": {},
   "outputs": [
    {
     "data": {
      "text/plain": [
       "(3951, 10)"
      ]
     },
     "execution_count": 12,
     "metadata": {},
     "output_type": "execute_result"
    }
   ],
   "source": [
    "#checking shape of the data\n",
    "df.shape"
   ]
  },
  {
   "cell_type": "code",
   "execution_count": 13,
   "metadata": {},
   "outputs": [
    {
     "data": {
      "text/plain": [
       "First Name       9\n",
       "Last Name        0\n",
       "Nickname      1810\n",
       "Height           0\n",
       "Weight           0\n",
       "Reach            0\n",
       "Stance         839\n",
       "Wins             0\n",
       "Losses           0\n",
       "Draws            0\n",
       "dtype: int64"
      ]
     },
     "execution_count": 13,
     "metadata": {},
     "output_type": "execute_result"
    }
   ],
   "source": [
    "#checking for missing values\n",
    "df.isna().sum()"
   ]
  },
  {
   "cell_type": "code",
   "execution_count": 14,
   "metadata": {},
   "outputs": [
    {
     "name": "stdout",
     "output_type": "stream",
     "text": [
      "<class 'pandas.core.frame.DataFrame'>\n",
      "RangeIndex: 3951 entries, 0 to 3950\n",
      "Data columns (total 10 columns):\n",
      " #   Column      Non-Null Count  Dtype \n",
      "---  ------      --------------  ----- \n",
      " 0   First Name  3942 non-null   object\n",
      " 1   Last Name   3951 non-null   object\n",
      " 2   Nickname    2141 non-null   object\n",
      " 3   Height      3951 non-null   object\n",
      " 4   Weight      3951 non-null   object\n",
      " 5   Reach       3951 non-null   object\n",
      " 6   Stance      3112 non-null   object\n",
      " 7   Wins        3951 non-null   int64 \n",
      " 8   Losses      3951 non-null   int64 \n",
      " 9   Draws       3951 non-null   int64 \n",
      "dtypes: int64(3), object(7)\n",
      "memory usage: 308.8+ KB\n"
     ]
    }
   ],
   "source": [
    "#checking generall info\n",
    "df.info()"
   ]
  },
  {
   "attachments": {},
   "cell_type": "markdown",
   "metadata": {},
   "source": [
    "### Understanding the second data Frame"
   ]
  },
  {
   "cell_type": "code",
   "execution_count": 15,
   "metadata": {},
   "outputs": [
    {
     "data": {
      "text/html": [
       "<div>\n",
       "<style scoped>\n",
       "    .dataframe tbody tr th:only-of-type {\n",
       "        vertical-align: middle;\n",
       "    }\n",
       "\n",
       "    .dataframe tbody tr th {\n",
       "        vertical-align: top;\n",
       "    }\n",
       "\n",
       "    .dataframe thead th {\n",
       "        text-align: right;\n",
       "    }\n",
       "</style>\n",
       "<table border=\"1\" class=\"dataframe\">\n",
       "  <thead>\n",
       "    <tr style=\"text-align: right;\">\n",
       "      <th></th>\n",
       "      <th>Event Name</th>\n",
       "      <th>Event Date</th>\n",
       "      <th>Result</th>\n",
       "      <th>Fighter1</th>\n",
       "      <th>Fighter2</th>\n",
       "      <th>KD</th>\n",
       "      <th>Strikes</th>\n",
       "      <th>TD</th>\n",
       "      <th>Sub</th>\n",
       "      <th>Weight Class</th>\n",
       "      <th>Method</th>\n",
       "      <th>Round</th>\n",
       "      <th>Time</th>\n",
       "    </tr>\n",
       "  </thead>\n",
       "  <tbody>\n",
       "    <tr>\n",
       "      <th>0</th>\n",
       "      <td>UFC Fight Night: Vera vs. Sandhagen</td>\n",
       "      <td>March 25, 2023</td>\n",
       "      <td>Cory Sandhagen</td>\n",
       "      <td>Cory Sandhagen</td>\n",
       "      <td>Marlon Vera</td>\n",
       "      <td>0-0</td>\n",
       "      <td>128-58</td>\n",
       "      <td>3-0</td>\n",
       "      <td>0-1</td>\n",
       "      <td>Bantamweight</td>\n",
       "      <td>S-DEC</td>\n",
       "      <td>5</td>\n",
       "      <td>5:00</td>\n",
       "    </tr>\n",
       "    <tr>\n",
       "      <th>1</th>\n",
       "      <td>UFC Fight Night: Vera vs. Sandhagen</td>\n",
       "      <td>March 25, 2023</td>\n",
       "      <td>Holly Holm</td>\n",
       "      <td>Holly Holm</td>\n",
       "      <td>Yana Santos</td>\n",
       "      <td>0-0</td>\n",
       "      <td>32-21</td>\n",
       "      <td>4-0</td>\n",
       "      <td>0-0</td>\n",
       "      <td>Women's Bantamweight</td>\n",
       "      <td>U-DEC</td>\n",
       "      <td>3</td>\n",
       "      <td>5:00</td>\n",
       "    </tr>\n",
       "    <tr>\n",
       "      <th>2</th>\n",
       "      <td>UFC Fight Night: Vera vs. Sandhagen</td>\n",
       "      <td>March 25, 2023</td>\n",
       "      <td>Nate Landwehr</td>\n",
       "      <td>Nate Landwehr</td>\n",
       "      <td>Austin Lingo</td>\n",
       "      <td>0-0</td>\n",
       "      <td>64-48</td>\n",
       "      <td>1-0</td>\n",
       "      <td>1-0</td>\n",
       "      <td>Featherweight</td>\n",
       "      <td>SUB-Rear-Naked-Choke</td>\n",
       "      <td>2</td>\n",
       "      <td>4:11</td>\n",
       "    </tr>\n",
       "    <tr>\n",
       "      <th>3</th>\n",
       "      <td>UFC Fight Night: Vera vs. Sandhagen</td>\n",
       "      <td>March 25, 2023</td>\n",
       "      <td>Maycee Barber</td>\n",
       "      <td>Maycee Barber</td>\n",
       "      <td>Andrea Lee</td>\n",
       "      <td>0-0</td>\n",
       "      <td>48-39</td>\n",
       "      <td>2-5</td>\n",
       "      <td>0-0</td>\n",
       "      <td>Women's Flyweight</td>\n",
       "      <td>S-DEC</td>\n",
       "      <td>3</td>\n",
       "      <td>5:00</td>\n",
       "    </tr>\n",
       "    <tr>\n",
       "      <th>4</th>\n",
       "      <td>UFC Fight Night: Vera vs. Sandhagen</td>\n",
       "      <td>March 25, 2023</td>\n",
       "      <td>Albert Duraev</td>\n",
       "      <td>Albert Duraev</td>\n",
       "      <td>Chidi Njokuani</td>\n",
       "      <td>0-0</td>\n",
       "      <td>45-40</td>\n",
       "      <td>2-0</td>\n",
       "      <td>0-0</td>\n",
       "      <td>Middleweight</td>\n",
       "      <td>S-DEC</td>\n",
       "      <td>3</td>\n",
       "      <td>5:00</td>\n",
       "    </tr>\n",
       "  </tbody>\n",
       "</table>\n",
       "</div>"
      ],
      "text/plain": [
       "                            Event Name      Event Date          Result  \\\n",
       "0  UFC Fight Night: Vera vs. Sandhagen  March 25, 2023  Cory Sandhagen   \n",
       "1  UFC Fight Night: Vera vs. Sandhagen  March 25, 2023      Holly Holm   \n",
       "2  UFC Fight Night: Vera vs. Sandhagen  March 25, 2023   Nate Landwehr   \n",
       "3  UFC Fight Night: Vera vs. Sandhagen  March 25, 2023   Maycee Barber   \n",
       "4  UFC Fight Night: Vera vs. Sandhagen  March 25, 2023   Albert Duraev   \n",
       "\n",
       "         Fighter1        Fighter2   KD Strikes   TD  Sub  \\\n",
       "0  Cory Sandhagen     Marlon Vera  0-0  128-58  3-0  0-1   \n",
       "1      Holly Holm     Yana Santos  0-0   32-21  4-0  0-0   \n",
       "2   Nate Landwehr    Austin Lingo  0-0   64-48  1-0  1-0   \n",
       "3   Maycee Barber      Andrea Lee  0-0   48-39  2-5  0-0   \n",
       "4   Albert Duraev  Chidi Njokuani  0-0   45-40  2-0  0-0   \n",
       "\n",
       "           Weight Class                Method  Round  Time  \n",
       "0          Bantamweight                 S-DEC      5  5:00  \n",
       "1  Women's Bantamweight                 U-DEC      3  5:00  \n",
       "2         Featherweight  SUB-Rear-Naked-Choke      2  4:11  \n",
       "3     Women's Flyweight                 S-DEC      3  5:00  \n",
       "4          Middleweight                 S-DEC      3  5:00  "
      ]
     },
     "execution_count": 15,
     "metadata": {},
     "output_type": "execute_result"
    }
   ],
   "source": [
    "df2 = pd.read_csv(\"ufc_event_data.csv\")\n",
    "df2.head()"
   ]
  },
  {
   "cell_type": "code",
   "execution_count": 16,
   "metadata": {},
   "outputs": [
    {
     "data": {
      "text/plain": [
       "(7060, 13)"
      ]
     },
     "execution_count": 16,
     "metadata": {},
     "output_type": "execute_result"
    }
   ],
   "source": [
    "df2.shape"
   ]
  },
  {
   "cell_type": "code",
   "execution_count": 17,
   "metadata": {},
   "outputs": [
    {
     "name": "stdout",
     "output_type": "stream",
     "text": [
      "<class 'pandas.core.frame.DataFrame'>\n",
      "RangeIndex: 7060 entries, 0 to 7059\n",
      "Data columns (total 13 columns):\n",
      " #   Column        Non-Null Count  Dtype \n",
      "---  ------        --------------  ----- \n",
      " 0   Event Name    7060 non-null   object\n",
      " 1   Event Date    7060 non-null   object\n",
      " 2   Result        7060 non-null   object\n",
      " 3   Fighter1      7060 non-null   object\n",
      " 4   Fighter2      7060 non-null   object\n",
      " 5   KD            7060 non-null   object\n",
      " 6   Strikes       7060 non-null   object\n",
      " 7   TD            7060 non-null   object\n",
      " 8   Sub           7060 non-null   object\n",
      " 9   Weight Class  7060 non-null   object\n",
      " 10  Method        7060 non-null   object\n",
      " 11  Round         7060 non-null   int64 \n",
      " 12  Time          7060 non-null   object\n",
      "dtypes: int64(1), object(12)\n",
      "memory usage: 717.2+ KB\n"
     ]
    }
   ],
   "source": [
    "df2.info()"
   ]
  },
  {
   "cell_type": "code",
   "execution_count": 18,
   "metadata": {},
   "outputs": [
    {
     "data": {
      "text/plain": [
       "Event Name      0\n",
       "Event Date      0\n",
       "Result          0\n",
       "Fighter1        0\n",
       "Fighter2        0\n",
       "KD              0\n",
       "Strikes         0\n",
       "TD              0\n",
       "Sub             0\n",
       "Weight Class    0\n",
       "Method          0\n",
       "Round           0\n",
       "Time            0\n",
       "dtype: int64"
      ]
     },
     "execution_count": 18,
     "metadata": {},
     "output_type": "execute_result"
    }
   ],
   "source": [
    "df2.isna().sum()"
   ]
  },
  {
   "cell_type": "code",
   "execution_count": 19,
   "metadata": {},
   "outputs": [
    {
     "data": {
      "text/plain": [
       "Index(['Event Name', 'Event Date', 'Result', 'Fighter1', 'Fighter2', 'KD',\n",
       "       'Strikes', 'TD', 'Sub', 'Weight Class', 'Method', 'Round', 'Time'],\n",
       "      dtype='object')"
      ]
     },
     "execution_count": 19,
     "metadata": {},
     "output_type": "execute_result"
    }
   ],
   "source": [
    "df2.columns"
   ]
  },
  {
   "attachments": {},
   "cell_type": "markdown",
   "metadata": {},
   "source": [
    "### Cleaning the first data frame"
   ]
  },
  {
   "cell_type": "code",
   "execution_count": 25,
   "metadata": {},
   "outputs": [
    {
     "data": {
      "text/plain": [
       "First Name       9\n",
       "Last Name        0\n",
       "Nickname      1810\n",
       "Height           0\n",
       "Weight           0\n",
       "Reach            0\n",
       "Stance         839\n",
       "Wins             0\n",
       "Losses           0\n",
       "Draws            0\n",
       "dtype: int64"
      ]
     },
     "execution_count": 25,
     "metadata": {},
     "output_type": "execute_result"
    }
   ],
   "source": [
    "df.isnull().sum()"
   ]
  },
  {
   "cell_type": "code",
   "execution_count": 26,
   "metadata": {},
   "outputs": [],
   "source": [
    "#dropping the missing values\n",
    "df = df.dropna()"
   ]
  },
  {
   "cell_type": "code",
   "execution_count": 27,
   "metadata": {},
   "outputs": [
    {
     "data": {
      "text/plain": [
       "First Name    0\n",
       "Last Name     0\n",
       "Nickname      0\n",
       "Height        0\n",
       "Weight        0\n",
       "Reach         0\n",
       "Stance        0\n",
       "Wins          0\n",
       "Losses        0\n",
       "Draws         0\n",
       "dtype: int64"
      ]
     },
     "execution_count": 27,
     "metadata": {},
     "output_type": "execute_result"
    }
   ],
   "source": [
    "df.isnull().sum()"
   ]
  },
  {
   "cell_type": "code",
   "execution_count": 29,
   "metadata": {},
   "outputs": [
    {
     "data": {
      "text/plain": [
       "0"
      ]
     },
     "execution_count": 29,
     "metadata": {},
     "output_type": "execute_result"
    }
   ],
   "source": [
    "df.duplicated().sum()"
   ]
  },
  {
   "attachments": {},
   "cell_type": "markdown",
   "metadata": {},
   "source": [
    "### Cleaning the second data"
   ]
  },
  {
   "cell_type": "code",
   "execution_count": 30,
   "metadata": {},
   "outputs": [
    {
     "data": {
      "text/plain": [
       "Event Name      0\n",
       "Event Date      0\n",
       "Result          0\n",
       "Fighter1        0\n",
       "Fighter2        0\n",
       "KD              0\n",
       "Strikes         0\n",
       "TD              0\n",
       "Sub             0\n",
       "Weight Class    0\n",
       "Method          0\n",
       "Round           0\n",
       "Time            0\n",
       "dtype: int64"
      ]
     },
     "execution_count": 30,
     "metadata": {},
     "output_type": "execute_result"
    }
   ],
   "source": [
    "df2.isnull().sum()"
   ]
  },
  {
   "cell_type": "code",
   "execution_count": 32,
   "metadata": {},
   "outputs": [
    {
     "data": {
      "text/plain": [
       "0"
      ]
     },
     "execution_count": 32,
     "metadata": {},
     "output_type": "execute_result"
    }
   ],
   "source": [
    "df2.duplicated().sum()"
   ]
  },
  {
   "attachments": {},
   "cell_type": "markdown",
   "metadata": {},
   "source": [
    "### Visualizing the First data set"
   ]
  },
  {
   "cell_type": "code",
   "execution_count": 33,
   "metadata": {},
   "outputs": [
    {
     "data": {
      "text/html": [
       "<div>\n",
       "<style scoped>\n",
       "    .dataframe tbody tr th:only-of-type {\n",
       "        vertical-align: middle;\n",
       "    }\n",
       "\n",
       "    .dataframe tbody tr th {\n",
       "        vertical-align: top;\n",
       "    }\n",
       "\n",
       "    .dataframe thead th {\n",
       "        text-align: right;\n",
       "    }\n",
       "</style>\n",
       "<table border=\"1\" class=\"dataframe\">\n",
       "  <thead>\n",
       "    <tr style=\"text-align: right;\">\n",
       "      <th></th>\n",
       "      <th>First Name</th>\n",
       "      <th>Last Name</th>\n",
       "      <th>Nickname</th>\n",
       "      <th>Height</th>\n",
       "      <th>Weight</th>\n",
       "      <th>Reach</th>\n",
       "      <th>Stance</th>\n",
       "      <th>Wins</th>\n",
       "      <th>Losses</th>\n",
       "      <th>Draws</th>\n",
       "    </tr>\n",
       "  </thead>\n",
       "  <tbody>\n",
       "    <tr>\n",
       "      <th>1</th>\n",
       "      <td>Danny</td>\n",
       "      <td>Abbadi</td>\n",
       "      <td>The Assassin</td>\n",
       "      <td>5' 11\"</td>\n",
       "      <td>155 lbs.</td>\n",
       "      <td>--</td>\n",
       "      <td>Orthodox</td>\n",
       "      <td>4</td>\n",
       "      <td>6</td>\n",
       "      <td>0</td>\n",
       "    </tr>\n",
       "    <tr>\n",
       "      <th>2</th>\n",
       "      <td>Nariman</td>\n",
       "      <td>Abbasov</td>\n",
       "      <td>Bayraktar</td>\n",
       "      <td>5' 8\"</td>\n",
       "      <td>155 lbs.</td>\n",
       "      <td>66.0\"</td>\n",
       "      <td>Orthodox</td>\n",
       "      <td>28</td>\n",
       "      <td>4</td>\n",
       "      <td>0</td>\n",
       "    </tr>\n",
       "    <tr>\n",
       "      <th>3</th>\n",
       "      <td>David</td>\n",
       "      <td>Abbott</td>\n",
       "      <td>Tank</td>\n",
       "      <td>6' 0\"</td>\n",
       "      <td>265 lbs.</td>\n",
       "      <td>--</td>\n",
       "      <td>Switch</td>\n",
       "      <td>10</td>\n",
       "      <td>15</td>\n",
       "      <td>0</td>\n",
       "    </tr>\n",
       "    <tr>\n",
       "      <th>4</th>\n",
       "      <td>Hamdy</td>\n",
       "      <td>Abdelwahab</td>\n",
       "      <td>The Hammer</td>\n",
       "      <td>6' 2\"</td>\n",
       "      <td>264 lbs.</td>\n",
       "      <td>72.0\"</td>\n",
       "      <td>Southpaw</td>\n",
       "      <td>5</td>\n",
       "      <td>0</td>\n",
       "      <td>0</td>\n",
       "    </tr>\n",
       "    <tr>\n",
       "      <th>5</th>\n",
       "      <td>Shamil</td>\n",
       "      <td>Abdurakhimov</td>\n",
       "      <td>Abrek</td>\n",
       "      <td>6' 3\"</td>\n",
       "      <td>235 lbs.</td>\n",
       "      <td>76.0\"</td>\n",
       "      <td>Orthodox</td>\n",
       "      <td>20</td>\n",
       "      <td>8</td>\n",
       "      <td>0</td>\n",
       "    </tr>\n",
       "  </tbody>\n",
       "</table>\n",
       "</div>"
      ],
      "text/plain": [
       "  First Name     Last Name      Nickname  Height    Weight  Reach    Stance  \\\n",
       "1      Danny        Abbadi  The Assassin  5' 11\"  155 lbs.     --  Orthodox   \n",
       "2    Nariman       Abbasov     Bayraktar   5' 8\"  155 lbs.  66.0\"  Orthodox   \n",
       "3      David        Abbott          Tank   6' 0\"  265 lbs.     --    Switch   \n",
       "4      Hamdy    Abdelwahab    The Hammer   6' 2\"  264 lbs.  72.0\"  Southpaw   \n",
       "5     Shamil  Abdurakhimov         Abrek   6' 3\"  235 lbs.  76.0\"  Orthodox   \n",
       "\n",
       "   Wins  Losses  Draws  \n",
       "1     4       6      0  \n",
       "2    28       4      0  \n",
       "3    10      15      0  \n",
       "4     5       0      0  \n",
       "5    20       8      0  "
      ]
     },
     "execution_count": 33,
     "metadata": {},
     "output_type": "execute_result"
    }
   ],
   "source": [
    "df.head()"
   ]
  },
  {
   "cell_type": "code",
   "execution_count": 37,
   "metadata": {},
   "outputs": [
    {
     "name": "stderr",
     "output_type": "stream",
     "text": [
      "c:\\Users\\Brian\\anaconda3\\New folder\\envs\\learn-env\\lib\\site-packages\\seaborn\\_decorators.py:36: FutureWarning: Pass the following variable as a keyword arg: x. From version 0.12, the only valid positional argument will be `data`, and passing other arguments without an explicit keyword will result in an error or misinterpretation.\n",
      "  warnings.warn(\n"
     ]
    },
    {
     "data": {
      "image/png": "[encoded data removed]",
      "text/plain": [
       "<Figure size 432x288 with 1 Axes>"
      ]
     },
     "metadata": {
      "needs_background": "light"
     },
     "output_type": "display_data"
    }
   ],
   "source": [
    "#box plot for wins\n",
    "fig , ax = plt.subplots()\n",
    "sns.boxplot(df.Wins)\n",
    "ax.set_title(\"box plot for wins\")\n",
    "plt.show()"
   ]
  },
  {
   "cell_type": "code",
   "execution_count": 44,
   "metadata": {},
   "outputs": [
    {
     "name": "stderr",
     "output_type": "stream",
     "text": [
      "c:\\Users\\Brian\\anaconda3\\New folder\\envs\\learn-env\\lib\\site-packages\\seaborn\\_decorators.py:36: FutureWarning: Pass the following variable as a keyword arg: x. From version 0.12, the only valid positional argument will be `data`, and passing other arguments without an explicit keyword will result in an error or misinterpretation.\n",
      "  warnings.warn(\n"
     ]
    },
    {
     "data": {
      "image/png": "[encoded data removed]",
      "text/plain": [
       "<Figure size 432x288 with 1 Axes>"
      ]
     },
     "metadata": {
      "needs_background": "light"
     },
     "output_type": "display_data"
    }
   ],
   "source": [
    "fig, ax = plt.subplots()\n",
    "sns.boxplot(df.Losses)\n",
    "ax.set_title(\"box plot for loses\")\n",
    "plt.show()"
   ]
  },
  {
   "cell_type": "code",
   "execution_count": 83,
   "metadata": {},
   "outputs": [
    {
     "data": {
      "image/png": "[encoded data removed]",
      "text/plain": [
       "<Figure size 720x576 with 1 Axes>"
      ]
     },
     "metadata": {},
     "output_type": "display_data"
    }
   ],
   "source": [
    "#fight by weight class\n",
    "fig, ax = plt.subplots(figsize=(10,8))\n",
    "fight_by_weight_class = df.groupby(\"Weight\")[\"Weight\"].count().sort_values(ascending=False).head()\n",
    "fight_by_weight_class.plot(kind=\"bar\", title=\"number of fights by weight class\")\n",
    "plt.xlabel(\"weight class\")\n",
    "plt.ylabel(\"number of fights\")\n",
    "sns.set_style(\"dark\")\n",
    "plt.show()\n"
   ]
  },
  {
   "cell_type": "code",
   "execution_count": 102,
   "metadata": {},
   "outputs": [
    {
     "data": {
      "image/png": "[encoded data removed]",
      "text/plain": [
       "<Figure size 720x576 with 1 Axes>"
      ]
     },
     "metadata": {},
     "output_type": "display_data"
    }
   ],
   "source": [
    "#bar chart of weight with hieights draws \n",
    "fig, ax = plt.subplots(figsize=(10,8))\n",
    "wins_by_weight_class = df.groupby(\"Weight\")[\"Draws\"].value_counts().sort_values(ascending= False).head()\n",
    "#wins_by_weight_class = wins_by_weight_class.reset_index(name=\"Wins\")\n",
    "wins_by_weight_class.plot(kind=\"bar\", title=\"Draws by weight class\")\n",
    "plt.xlabel(\"weight class\")\n",
    "plt.ylabel(\"Draws by weight class\")\n",
    "plt.show()"
   ]
  },
  {
   "cell_type": "code",
   "execution_count": 101,
   "metadata": {},
   "outputs": [
    {
     "data": {
      "image/png": "[encoded data removed]",
      "text/plain": [
       "<Figure size 720x576 with 1 Axes>"
      ]
     },
     "metadata": {},
     "output_type": "display_data"
    }
   ],
   "source": [
    "fig, ax = plt.subplots(figsize=(10,8))\n",
    "stance_count = df[\"Stance\"].value_counts().sort_values(ascending=False)\n",
    "plt.bar(stance_count.index, stance_count.values)\n",
    "plt.xlabel(\"Stance\")\n",
    "plt.ylabel(\"Number of Fighters\")\n",
    "plt.title(\"Number of Fighters by Stance\")\n",
    "plt.show()\n"
   ]
  },
  {
   "cell_type": "code",
   "execution_count": 110,
   "metadata": {},
   "outputs": [
    {
     "data": {
      "image/png": "[encoded data removed]",
      "text/plain": [
       "<Figure size 864x432 with 1 Axes>"
      ]
     },
     "metadata": {},
     "output_type": "display_data"
    }
   ],
   "source": [
    "\n",
    "stance_counts = df.groupby([\"Weight\", \"Stance\"])[\"Nickname\"].count().unstack().head(10)\n",
    "stance_counts.plot(kind=\"bar\", stacked=False, figsize=(12, 6) ,width=0.8)\n",
    "plt.xlabel(\"Weight Class\")\n",
    "plt.ylabel(\"Number of Fighters\")\n",
    "plt.title(\"Number of Fighters by Stance and Weight Class\")\n",
    "plt.show()"
   ]
  },
  {
   "cell_type": "code",
   "execution_count": 126,
   "metadata": {},
   "outputs": [
    {
     "name": "stderr",
     "output_type": "stream",
     "text": [
      "c:\\Users\\Brian\\anaconda3\\New folder\\envs\\learn-env\\lib\\site-packages\\seaborn\\distributions.py:2551: FutureWarning: `distplot` is a deprecated function and will be removed in a future version. Please adapt your code to use either `displot` (a figure-level function with similar flexibility) or `histplot` (an axes-level function for histograms).\n",
      "  warnings.warn(msg, FutureWarning)\n"
     ]
    },
    {
     "data": {
      "image/png": "[encoded data removed]",
      "text/plain": [
       "<Figure size 1152x576 with 1 Axes>"
      ]
     },
     "metadata": {},
     "output_type": "display_data"
    }
   ],
   "source": [
    "#fig, ax = plt.subplots(figsize=(10,8))\n",
    "sns.distplot(df.Wins, color=\"blue\", bins=\"auto\")\n",
    "plt.rcParams['figure.figsize'] = [16, 8]\n",
    "plt.title(\"wins\")\n",
    "plt.show()"
   ]
  },
  {
   "attachments": {},
   "cell_type": "markdown",
   "metadata": {},
   "source": [
    "### Statistical analysis"
   ]
  },
  {
   "cell_type": "code",
   "execution_count": 129,
   "metadata": {},
   "outputs": [
    {
     "data": {
      "text/html": [
       "<div>\n",
       "<style scoped>\n",
       "    .dataframe tbody tr th:only-of-type {\n",
       "        vertical-align: middle;\n",
       "    }\n",
       "\n",
       "    .dataframe tbody tr th {\n",
       "        vertical-align: top;\n",
       "    }\n",
       "\n",
       "    .dataframe thead th {\n",
       "        text-align: right;\n",
       "    }\n",
       "</style>\n",
       "<table border=\"1\" class=\"dataframe\">\n",
       "  <thead>\n",
       "    <tr style=\"text-align: right;\">\n",
       "      <th></th>\n",
       "      <th>First Name</th>\n",
       "      <th>Last Name</th>\n",
       "      <th>Nickname</th>\n",
       "      <th>Height</th>\n",
       "      <th>Weight</th>\n",
       "      <th>Reach</th>\n",
       "      <th>Stance</th>\n",
       "      <th>Wins</th>\n",
       "      <th>Losses</th>\n",
       "      <th>Draws</th>\n",
       "    </tr>\n",
       "  </thead>\n",
       "  <tbody>\n",
       "    <tr>\n",
       "      <th>1</th>\n",
       "      <td>Danny</td>\n",
       "      <td>Abbadi</td>\n",
       "      <td>The Assassin</td>\n",
       "      <td>5' 11\"</td>\n",
       "      <td>155 lbs.</td>\n",
       "      <td>--</td>\n",
       "      <td>Orthodox</td>\n",
       "      <td>4</td>\n",
       "      <td>6</td>\n",
       "      <td>0</td>\n",
       "    </tr>\n",
       "    <tr>\n",
       "      <th>2</th>\n",
       "      <td>Nariman</td>\n",
       "      <td>Abbasov</td>\n",
       "      <td>Bayraktar</td>\n",
       "      <td>5' 8\"</td>\n",
       "      <td>155 lbs.</td>\n",
       "      <td>66.0\"</td>\n",
       "      <td>Orthodox</td>\n",
       "      <td>28</td>\n",
       "      <td>4</td>\n",
       "      <td>0</td>\n",
       "    </tr>\n",
       "    <tr>\n",
       "      <th>3</th>\n",
       "      <td>David</td>\n",
       "      <td>Abbott</td>\n",
       "      <td>Tank</td>\n",
       "      <td>6' 0\"</td>\n",
       "      <td>265 lbs.</td>\n",
       "      <td>--</td>\n",
       "      <td>Switch</td>\n",
       "      <td>10</td>\n",
       "      <td>15</td>\n",
       "      <td>0</td>\n",
       "    </tr>\n",
       "    <tr>\n",
       "      <th>4</th>\n",
       "      <td>Hamdy</td>\n",
       "      <td>Abdelwahab</td>\n",
       "      <td>The Hammer</td>\n",
       "      <td>6' 2\"</td>\n",
       "      <td>264 lbs.</td>\n",
       "      <td>72.0\"</td>\n",
       "      <td>Southpaw</td>\n",
       "      <td>5</td>\n",
       "      <td>0</td>\n",
       "      <td>0</td>\n",
       "    </tr>\n",
       "    <tr>\n",
       "      <th>5</th>\n",
       "      <td>Shamil</td>\n",
       "      <td>Abdurakhimov</td>\n",
       "      <td>Abrek</td>\n",
       "      <td>6' 3\"</td>\n",
       "      <td>235 lbs.</td>\n",
       "      <td>76.0\"</td>\n",
       "      <td>Orthodox</td>\n",
       "      <td>20</td>\n",
       "      <td>8</td>\n",
       "      <td>0</td>\n",
       "    </tr>\n",
       "  </tbody>\n",
       "</table>\n",
       "</div>"
      ],
      "text/plain": [
       "  First Name     Last Name      Nickname  Height    Weight  Reach    Stance  \\\n",
       "1      Danny        Abbadi  The Assassin  5' 11\"  155 lbs.     --  Orthodox   \n",
       "2    Nariman       Abbasov     Bayraktar   5' 8\"  155 lbs.  66.0\"  Orthodox   \n",
       "3      David        Abbott          Tank   6' 0\"  265 lbs.     --    Switch   \n",
       "4      Hamdy    Abdelwahab    The Hammer   6' 2\"  264 lbs.  72.0\"  Southpaw   \n",
       "5     Shamil  Abdurakhimov         Abrek   6' 3\"  235 lbs.  76.0\"  Orthodox   \n",
       "\n",
       "   Wins  Losses  Draws  \n",
       "1     4       6      0  \n",
       "2    28       4      0  \n",
       "3    10      15      0  \n",
       "4     5       0      0  \n",
       "5    20       8      0  "
      ]
     },
     "execution_count": 129,
     "metadata": {},
     "output_type": "execute_result"
    }
   ],
   "source": [
    "df.head()"
   ]
  },
  {
   "cell_type": "code",
   "execution_count": 130,
   "metadata": {},
   "outputs": [
    {
     "data": {
      "text/plain": [
       "First Name    object\n",
       "Last Name     object\n",
       "Nickname      object\n",
       "Height        object\n",
       "Weight        object\n",
       "Reach         object\n",
       "Stance        object\n",
       "Wins           int64\n",
       "Losses         int64\n",
       "Draws          int64\n",
       "dtype: object"
      ]
     },
     "execution_count": 130,
     "metadata": {},
     "output_type": "execute_result"
    }
   ],
   "source": [
    "df.dtypes"
   ]
  },
  {
   "cell_type": "code",
   "execution_count": 135,
   "metadata": {},
   "outputs": [
    {
     "name": "stderr",
     "output_type": "stream",
     "text": [
      "<ipython-input-135-8e94ac79cc62>:4: SettingWithCopyWarning: \n",
      "A value is trying to be set on a copy of a slice from a DataFrame.\n",
      "Try using .loc[row_indexer,col_indexer] = value instead\n",
      "\n",
      "See the caveats in the documentation: https://pandas.pydata.org/pandas-docs/stable/user_guide/indexing.html#returning-a-view-versus-a-copy\n",
      "  df['Height'] = df['Height'].apply(lambda x: int(re.match(pattern, x).group(1)) * 12 + int(re.match(pattern, x).group(2))if re.match(pattern, x) else None)\n"
     ]
    }
   ],
   "source": [
    "#converting height to integers\n",
    "import re\n",
    "pattern = r\"(\\d+)' (\\d+)\\\"\"\n",
    "df['Height'] = df['Height'].apply(lambda x: int(re.match(pattern, x).group(1)) * 12 + int(re.match(pattern, x).group(2))if re.match(pattern, x) else None)\n"
   ]
  },
  {
   "cell_type": "code",
   "execution_count": 136,
   "metadata": {},
   "outputs": [
    {
     "data": {
      "text/plain": [
       "Height    0.066287\n",
       "Wins      1.000000\n",
       "Losses    0.644919\n",
       "Draws     0.407925\n",
       "Name: Wins, dtype: float64"
      ]
     },
     "execution_count": 136,
     "metadata": {},
     "output_type": "execute_result"
    }
   ],
   "source": [
    "# correlation between wins and other variables\n",
    "df.corr()[\"Wins\"]"
   ]
  },
  {
   "attachments": {},
   "cell_type": "markdown",
   "metadata": {},
   "source": [
    "### Regression analysis"
   ]
  },
  {
   "cell_type": "markdown",
   "metadata": {},
   "source": []
  }
 ],
 "metadata": {
  "kernelspec": {
   "display_name": "python(learn-env)",
   "language": "python",
   "name": "learn-env"
  },
  "language_info": {
   "codemirror_mode": {
    "name": "ipython",
    "version": 3
   },
   "file_extension": ".py",
   "mimetype": "text/x-python",
   "name": "python",
   "nbconvert_exporter": "python",
   "pygments_lexer": "ipython3",
   "version": "3.8.5"
  },
  "orig_nbformat": 4
 },
 "nbformat": 4,
 "nbformat_minor": 2
}
